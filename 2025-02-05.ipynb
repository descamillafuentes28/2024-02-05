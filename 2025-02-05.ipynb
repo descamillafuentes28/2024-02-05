{
 "cells": [
  {
   "cell_type": "code",
   "execution_count": 6,
   "id": "f6b60cb8",
   "metadata": {},
   "outputs": [
    {
     "data": {
      "text/plain": [
       "0.028170055452865068"
      ]
     },
     "execution_count": 6,
     "metadata": {},
     "output_type": "execute_result"
    }
   ],
   "source": [
    "## Chicago per capita\n",
    "(762 / 2_705_000) * 100"
   ]
  },
  {
   "cell_type": "code",
   "execution_count": 8,
   "id": "8c926d17",
   "metadata": {},
   "outputs": [
    {
     "data": {
      "text/plain": [
       "0.007394366197183098"
      ]
     },
     "execution_count": 8,
     "metadata": {},
     "output_type": "execute_result"
    }
   ],
   "source": [
    "## Los Angeles per capita\n",
    "(294/3976000) * 100"
   ]
  },
  {
   "cell_type": "code",
   "execution_count": 9,
   "id": "06af36da",
   "metadata": {},
   "outputs": [
    {
     "data": {
      "text/plain": [
       "0.03911923167018037"
      ]
     },
     "execution_count": 9,
     "metadata": {},
     "output_type": "execute_result"
    }
   ],
   "source": [
    "##New York City per capita\n",
    "(334/853800) * 100"
   ]
  },
  {
   "cell_type": "code",
   "execution_count": 10,
   "id": "69a4ac6d",
   "metadata": {},
   "outputs": [
    {
     "data": {
      "text/plain": [
       "0.004585365853658536"
      ]
     },
     "execution_count": 10,
     "metadata": {},
     "output_type": "execute_result"
    }
   ],
   "source": [
    "##San Jose, CA \n",
    "(47/1025000) * 100"
   ]
  },
  {
   "cell_type": "code",
   "execution_count": 11,
   "id": "a5c338c1",
   "metadata": {},
   "outputs": [
    {
     "name": "stdout",
     "output_type": "stream",
     "text": [
      "New York City has murder rate of .039 per 100K while San Jose Ca has a rate of .004 per 100K\n"
     ]
    }
   ],
   "source": [
    "print(\"New York City has murder rate of .039 per 100K while San Jose Ca has a rate of .004 per 100K\")"
   ]
  },
  {
   "cell_type": "code",
   "execution_count": null,
   "id": "55e3fffd",
   "metadata": {},
   "outputs": [],
   "source": []
  }
 ],
 "metadata": {
  "kernelspec": {
   "display_name": "Python 3 (ipykernel)",
   "language": "python",
   "name": "python3"
  },
  "language_info": {
   "codemirror_mode": {
    "name": "ipython",
    "version": 3
   },
   "file_extension": ".py",
   "mimetype": "text/x-python",
   "name": "python",
   "nbconvert_exporter": "python",
   "pygments_lexer": "ipython3",
   "version": "3.11.5"
  }
 },
 "nbformat": 4,
 "nbformat_minor": 5
}
